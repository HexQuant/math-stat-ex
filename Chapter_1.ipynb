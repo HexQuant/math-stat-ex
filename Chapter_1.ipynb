{
 "cells": [
  {
   "cell_type": "markdown",
   "metadata": {
    "colab_type": "text",
    "id": "view-in-github"
   },
   "source": [
    "<a href=\"https://colab.research.google.com/github/HexQuant/math-stat-ex/blob/main/Chapter_1.ipynb\" target=\"_parent\"><img src=\"https://colab.research.google.com/assets/colab-badge.svg\" alt=\"Open In Colab\"/></a>"
   ]
  },
  {
   "cell_type": "code",
   "execution_count": 1,
   "metadata": {
    "id": "6144XmWEzf_M"
   },
   "outputs": [],
   "source": [
    "from sympy import symbols, diff, integrate, solve, factor, Sum, oo, \\\n",
    "  binomial, sqrt, limit, simplify"
   ]
  },
  {
   "cell_type": "markdown",
   "metadata": {
    "id": "JW1g0iQc7n8v"
   },
   "source": [
    "# Глава 1"
   ]
  },
  {
   "cell_type": "markdown",
   "metadata": {
    "id": "UBMtnCNNIzzs"
   },
   "source": [
    "## Задача 1\n",
    "$f(a)=M(\\zeta-a)^2, a=M\\zeta$\n",
    "\n",
    "$M(\\zeta^2-2\\zeta a+a^2)=\\\\=\n",
    "M\\zeta^2-2M (\\zeta a) +Ma^2$\n",
    "\n",
    "$-2M(\\zeta a)+Ma^2 \\rightarrow min$\n",
    "\n",
    "$-2M\\zeta+2Ma$\n",
    "\n",
    "$M\\zeta = Ma$"
   ]
  },
  {
   "cell_type": "markdown",
   "metadata": {
    "id": "0fVo81NXJEtn"
   },
   "source": [
    "## Задача 2\n",
    "$M \\bar \\eta = M(\\frac{1}{n}(\\eta_1+...+\\eta_n))=\\\\\n",
    "=\\frac{1}{n}(M\\eta_1+...+M\\eta_n)=0.5$\n",
    "\n",
    "$D \\bar \\eta = D(\\frac{1}{n}(\\eta_1+...+\\eta_n))=\\\\\n",
    "=M\\eta^2-(M\\eta)^2=0.5-0.25=0.25$\n",
    "\n",
    "$M\\bar\\eta=\\int_0^1 dx=$"
   ]
  },
  {
   "cell_type": "markdown",
   "metadata": {
    "id": "h4c8AsOnLW1Z"
   },
   "source": [
    "## Задача 3\n",
    "$M\\eta(n)=M max(\\eta_1,...,\\eta_n)=$\n",
    "\n",
    "$F_1(x)=P(\\eta_1\\leq x)$\n",
    "\n",
    "$F_{\\eta(n)}(\\eta_{(n)}\\leq a)=\\prod_{i=1}^{n}P(\\eta_i \\leq a) = a^n$\n",
    "\n",
    "$M\\eta_{(n)}=\\int_0^1 a^n da=\\frac{1}{n+1}a^{n+1}\\\\=\\frac{1}{n+1}1^{n+1}$\n",
    "\n",
    "\n",
    "$M\\bar\\eta\\ = \\int_0^1 a \\cdot  F_{\\eta} da = \\\\\n",
    "=\\int_0^1 a^{n+1} da = \\frac{1}{n+1}\\cdot a$\n"
   ]
  },
  {
   "cell_type": "code",
   "execution_count": 2,
   "metadata": {
    "colab": {
     "base_uri": "https://localhost:8080/",
     "height": 38
    },
    "id": "le4tHdSjONeD",
    "outputId": "70ab3f46-966f-4f35-eb68-4c11f78e7fb4"
   },
   "outputs": [
    {
     "data": {
      "text/latex": [
       "$\\displaystyle a^{n}$"
      ],
      "text/plain": [
       "a**n"
      ]
     },
     "execution_count": 2,
     "metadata": {},
     "output_type": "execute_result"
    }
   ],
   "source": [
    "a, n = symbols('a n', positive =True)\n",
    "F = a**n\n",
    "F"
   ]
  },
  {
   "cell_type": "code",
   "execution_count": 3,
   "metadata": {
    "colab": {
     "base_uri": "https://localhost:8080/",
     "height": 52
    },
    "id": "RT5udRgSr-Iy",
    "outputId": "1a9136c8-371d-41c2-859c-b16719e57083"
   },
   "outputs": [
    {
     "data": {
      "text/latex": [
       "$\\displaystyle \\frac{a^{n} n}{a}$"
      ],
      "text/plain": [
       "a**n*n/a"
      ]
     },
     "execution_count": 3,
     "metadata": {},
     "output_type": "execute_result"
    }
   ],
   "source": [
    "f = diff(F, a)\n",
    "f"
   ]
  },
  {
   "cell_type": "code",
   "execution_count": 4,
   "metadata": {
    "colab": {
     "base_uri": "https://localhost:8080/",
     "height": 49
    },
    "id": "RjL7SPvTVZkL",
    "outputId": "84b13fb4-098a-4ccc-a040-b12a0ca2f2bf"
   },
   "outputs": [
    {
     "data": {
      "text/latex": [
       "$\\displaystyle \\frac{n}{n + 1}$"
      ],
      "text/plain": [
       "n/(n + 1)"
      ]
     },
     "execution_count": 4,
     "metadata": {},
     "output_type": "execute_result"
    }
   ],
   "source": [
    "M = integrate(a*f, (a, 0, 1))\n",
    "M"
   ]
  },
  {
   "cell_type": "code",
   "execution_count": 5,
   "metadata": {
    "colab": {
     "base_uri": "https://localhost:8080/",
     "height": 61
    },
    "id": "4g3BeJ8mpCrF",
    "outputId": "d9c7b49c-a784-48a1-9dff-d597adb6fd1f"
   },
   "outputs": [
    {
     "data": {
      "text/latex": [
       "$\\displaystyle - \\frac{n^{2}}{\\left(n + 1\\right)^{2}} + \\frac{n}{n + 2}$"
      ],
      "text/plain": [
       "-n**2/(n + 1)**2 + n/(n + 2)"
      ]
     },
     "execution_count": 5,
     "metadata": {},
     "output_type": "execute_result"
    }
   ],
   "source": [
    "D = integrate(a**2*f,(a,0,1)) - M**2\n",
    "D"
   ]
  },
  {
   "cell_type": "code",
   "execution_count": 6,
   "metadata": {
    "colab": {
     "base_uri": "https://localhost:8080/",
     "height": 55
    },
    "id": "zjWmfEAmsWeW",
    "outputId": "02606656-82a4-4b3f-ff2e-6a780768879f"
   },
   "outputs": [
    {
     "data": {
      "text/latex": [
       "$\\displaystyle \\frac{n}{\\left(n + 1\\right)^{2} \\left(n + 2\\right)}$"
      ],
      "text/plain": [
       "n/((n + 1)**2*(n + 2))"
      ]
     },
     "execution_count": 6,
     "metadata": {},
     "output_type": "execute_result"
    }
   ],
   "source": [
    "factor(D)"
   ]
  },
  {
   "cell_type": "code",
   "execution_count": 7,
   "metadata": {
    "id": "yFNFQU4ydibJ"
   },
   "outputs": [],
   "source": [
    "del a,n,F,f,M,D"
   ]
  },
  {
   "cell_type": "markdown",
   "metadata": {
    "id": "4_fmYPW1toMd"
   },
   "source": [
    "## Задача 4\n",
    "$F(\\mu =  a)=p\\cdot \\prod_{i=1}^a (1-p)=\\\\\n",
    "=p\\cdot (1-p)^a$"
   ]
  },
  {
   "cell_type": "code",
   "execution_count": 8,
   "metadata": {
    "colab": {
     "base_uri": "https://localhost:8080/",
     "height": 38
    },
    "id": "tFXwCM5MugPL",
    "outputId": "eb22a5d5-0fc2-45ac-d510-0bfc78d18495"
   },
   "outputs": [
    {
     "data": {
      "text/latex": [
       "$\\displaystyle p \\left(1 - p\\right)^{a}$"
      ],
      "text/plain": [
       "p*(1 - p)**a"
      ]
     },
     "execution_count": 8,
     "metadata": {},
     "output_type": "execute_result"
    }
   ],
   "source": [
    "# число неудач до появления первого успеха и вероятность успеха\n",
    "p = symbols('p', positive=True)\n",
    "mu, a = symbols('mu a', positive=True, Integer=True)\n",
    "F = p*(1-p)**a \n",
    "F"
   ]
  },
  {
   "cell_type": "code",
   "execution_count": 9,
   "metadata": {
    "colab": {
     "base_uri": "https://localhost:8080/"
    },
    "id": "jJbptSf7wtec",
    "outputId": "dceadf81-993b-4fcc-f257-81686cdab0a0"
   },
   "outputs": [
    {
     "name": "stdout",
     "output_type": "stream",
     "text": [
      "p*Piecewise(((1 - p)/p, Abs(p - 1) < 1), (Sum((1 - p)**a, (a, 1, oo)), True))\n"
     ]
    }
   ],
   "source": [
    "s = Sum(F, (a,1,+oo)).doit()\n",
    "print(s)"
   ]
  },
  {
   "cell_type": "code",
   "execution_count": 10,
   "metadata": {
    "id": "FMku1G0AeprA"
   },
   "outputs": [],
   "source": [
    "del p,mu,a,F,s"
   ]
  },
  {
   "cell_type": "markdown",
   "metadata": {
    "id": "1NTV3OupB7ma"
   },
   "source": [
    "## Задача 5"
   ]
  },
  {
   "cell_type": "code",
   "execution_count": 11,
   "metadata": {
    "colab": {
     "base_uri": "https://localhost:8080/",
     "height": 80
    },
    "id": "U4x_JJKUFmaP",
    "outputId": "354151e1-3453-429d-b13d-3321065c68bc"
   },
   "outputs": [
    {
     "data": {
      "text/latex": [
       "$\\displaystyle \\left(1 - p\\right)^{k} + \\left(1 - \\left(1 - p\\right)^{k}\\right) \\left(\\frac{k}{\\sum_{i=1}^{k} {\\binom{k}{i}}} + \\frac{\\left(k + 1\\right) \\left(\\sum_{i=1}^{k} {\\binom{k}{i}} - 1\\right)}{\\sum_{i=1}^{k} {\\binom{k}{i}}}\\right)$"
      ],
      "text/plain": [
       "(1 - p)**k + (1 - (1 - p)**k)*(k/Sum(binomial(k, i), (i, 1, k)) + (k + 1)*(Sum(binomial(k, i), (i, 1, k)) - 1)/Sum(binomial(k, i), (i, 1, k)))"
      ]
     },
     "execution_count": 11,
     "metadata": {},
     "output_type": "execute_result"
    }
   ],
   "source": [
    "# Кол-во тестируемых в группе\n",
    "k = symbols('k', positive=True, Integer=True)\n",
    "# Вероятность обнаружения заболевания\n",
    "p = symbols('p', positive= True) \n",
    "# Вероятность отсутствия заболевания\n",
    "q = 1 - p\n",
    "# Вероястность что группа больна и НЕ больна\n",
    "pk, qk = 1 - q**k, q**k\n",
    "# Число всевозможных комбинации больных и здоровых в больной группе\n",
    "i = symbols('i', positive=True, Integer=True)\n",
    "npk =  Sum(binomial(k, i), (i, 1, k))\n",
    "# Кол-во необходимых тестов для одной группы, с учётом того, что\n",
    "# если в больной группе не выявился больной на k-1 тест, то тест делать не надо\n",
    "z = 1*  qk + pk * ((k+1) * (npk-1)/npk + k * 1/npk)\n",
    "z"
   ]
  },
  {
   "cell_type": "code",
   "execution_count": 12,
   "metadata": {
    "colab": {
     "base_uri": "https://localhost:8080/",
     "height": 57
    },
    "id": "8C_FdzaeQHsB",
    "outputId": "8ce578c3-7a75-4fb2-f343-b8d12fcff79e"
   },
   "outputs": [
    {
     "data": {
      "text/latex": [
       "$\\displaystyle \\frac{8}{3} - \\frac{5 \\left(1 - p\\right)^{2}}{3}$"
      ],
      "text/plain": [
       "8/3 - 5*(1 - p)**2/3"
      ]
     },
     "execution_count": 12,
     "metadata": {},
     "output_type": "execute_result"
    }
   ],
   "source": [
    "# Кол-во необходимых тестов для группы из 2-х тестируемых\n",
    "z2 = z.subs(k,2).doit()\n",
    "z2"
   ]
  },
  {
   "cell_type": "code",
   "execution_count": 13,
   "metadata": {
    "colab": {
     "base_uri": "https://localhost:8080/",
     "height": 38
    },
    "id": "uquDNqo7HCRt",
    "outputId": "26e44f52-84ae-4b67-dc7a-e81123eab68e"
   },
   "outputs": [
    {
     "data": {
      "text/latex": [
       "$\\displaystyle p < 0.367544467966324$"
      ],
      "text/plain": [
       "p < 0.367544467966324"
      ]
     },
     "execution_count": 13,
     "metadata": {},
     "output_type": "execute_result"
    }
   ],
   "source": [
    "# Критерий по \"p\" при котором выгоднее тестировать группами чем по отдельности\n",
    "crit = solve(z2<2,p).args[0]\n",
    "crit.evalf()"
   ]
  },
  {
   "cell_type": "code",
   "execution_count": 14,
   "metadata": {
    "id": "qomFxfaue6HJ"
   },
   "outputs": [],
   "source": [
    "del k,p,q,pk,qk,i,npk,z,z2,crit"
   ]
  },
  {
   "cell_type": "markdown",
   "metadata": {
    "id": "36xiiKNYPDKU"
   },
   "source": [
    "## Задача 6"
   ]
  },
  {
   "cell_type": "code",
   "execution_count": 15,
   "metadata": {
    "id": "ppGlgPdGPO6e"
   },
   "outputs": [],
   "source": [
    "x, p = symbols('x, p', positive=True)"
   ]
  },
  {
   "cell_type": "code",
   "execution_count": 16,
   "metadata": {
    "colab": {
     "base_uri": "https://localhost:8080/",
     "height": 51
    },
    "id": "lptpZiGbPsaT",
    "outputId": "8569d2b6-d132-4c6a-8714-1bbc32e77c8d"
   },
   "outputs": [
    {
     "data": {
      "text/latex": [
       "$\\displaystyle - \\left(1 - p\\right)^{x} + 1 + \\frac{1}{x}$"
      ],
      "text/plain": [
       "-(1 - p)**x + 1 + 1/x"
      ]
     },
     "execution_count": 16,
     "metadata": {},
     "output_type": "execute_result"
    }
   ],
   "source": [
    "H = 1+1/x-(1-p)**x\n",
    "H"
   ]
  },
  {
   "cell_type": "code",
   "execution_count": 17,
   "metadata": {
    "colab": {
     "base_uri": "https://localhost:8080/",
     "height": 51
    },
    "id": "Y5N2-rDVdhfp",
    "outputId": "c9d0d157-de2d-4a3d-a2d9-0bbf775125b1"
   },
   "outputs": [
    {
     "data": {
      "text/latex": [
       "$\\displaystyle \\left(1 - p\\right)^{x} \\log{\\left(1 - p \\right)} + \\frac{1}{x^{2}}$"
      ],
      "text/plain": [
       "(1 - p)**x*log(1 - p) + x**(-2)"
      ]
     },
     "execution_count": 17,
     "metadata": {},
     "output_type": "execute_result"
    }
   ],
   "source": [
    "h = diff(H, x)*-1\n",
    "h"
   ]
  },
  {
   "cell_type": "code",
   "execution_count": 18,
   "metadata": {
    "colab": {
     "base_uri": "https://localhost:8080/",
     "height": 37
    },
    "id": "kIBNZegpP91B",
    "outputId": "d8c72c45-aaad-45ed-f94e-e37089184c4c"
   },
   "outputs": [
    {
     "data": {
      "text/latex": [
       "$\\displaystyle 0$"
      ],
      "text/plain": [
       "0"
      ]
     },
     "execution_count": 18,
     "metadata": {},
     "output_type": "execute_result"
    }
   ],
   "source": [
    "# Для док-ва подставим значение предпологаемого кореня и возьмём предел\n",
    "a = h.subs(x,1/sqrt(p))\n",
    "limit(a,p,0)"
   ]
  },
  {
   "cell_type": "code",
   "execution_count": 19,
   "metadata": {
    "colab": {
     "base_uri": "https://localhost:8080/",
     "height": 42
    },
    "id": "7UdlFtXMaUFI",
    "outputId": "a0bae6b7-3147-42f3-f32e-f871dad3d491"
   },
   "outputs": [
    {
     "data": {
      "text/latex": [
       "$\\displaystyle \\sqrt{p} - \\left(1 - p\\right)^{\\frac{1}{\\sqrt{p}}} + 1$"
      ],
      "text/plain": [
       "sqrt(p) - (1 - p)**(1/sqrt(p)) + 1"
      ]
     },
     "execution_count": 19,
     "metadata": {},
     "output_type": "execute_result"
    }
   ],
   "source": [
    "simplify(H.subs(x, 1/sqrt(p)))"
   ]
  },
  {
   "cell_type": "code",
   "execution_count": 20,
   "metadata": {
    "id": "S26HLKt-f8rG"
   },
   "outputs": [],
   "source": [
    "del x,p,H,h,a"
   ]
  }
 ],
 "metadata": {
  "colab": {
   "authorship_tag": "ABX9TyPmcibhgOOrQ/tDRMY0/UJm",
   "include_colab_link": true,
   "name": "Chapter_1.ipynb",
   "provenance": []
  },
  "kernelspec": {
   "display_name": "Python 3",
   "language": "python",
   "name": "python3"
  },
  "language_info": {
   "codemirror_mode": {
    "name": "ipython",
    "version": 3
   },
   "file_extension": ".py",
   "mimetype": "text/x-python",
   "name": "python",
   "nbconvert_exporter": "python",
   "pygments_lexer": "ipython3",
   "version": "3.7.10"
  }
 },
 "nbformat": 4,
 "nbformat_minor": 4
}
