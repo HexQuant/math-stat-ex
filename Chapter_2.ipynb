{
  "nbformat": 4,
  "nbformat_minor": 0,
  "metadata": {
    "colab": {
      "name": "Chapter_2.ipynb",
      "provenance": [],
      "collapsed_sections": [],
      "authorship_tag": "ABX9TyPyxQDmxSXubJdoC2xnDxPS",
      "include_colab_link": true
    },
    "kernelspec": {
      "display_name": "Python 3",
      "language": "python",
      "name": "python3"
    },
    "language_info": {
      "codemirror_mode": {
        "name": "ipython",
        "version": 3
      },
      "file_extension": ".py",
      "mimetype": "text/x-python",
      "name": "python",
      "nbconvert_exporter": "python",
      "pygments_lexer": "ipython3",
      "version": "3.7.10"
    }
  },
  "cells": [
    {
      "cell_type": "markdown",
      "metadata": {
        "id": "view-in-github",
        "colab_type": "text"
      },
      "source": [
        "<a href=\"https://colab.research.google.com/github/HexQuant/math-stat-ex/blob/main/Chapter_2.ipynb\" target=\"_parent\"><img src=\"https://colab.research.google.com/assets/colab-badge.svg\" alt=\"Open In Colab\"/></a>"
      ]
    },
    {
      "cell_type": "code",
      "metadata": {
        "id": "fhmdQVOs6xDq"
      },
      "source": [
        "from numpy import array\n",
        "from sympy import symbols, binomial, Sum, factorial, oo\n",
        "import random\n"
      ],
      "execution_count": 128,
      "outputs": []
    },
    {
      "cell_type": "markdown",
      "metadata": {
        "id": "zLLnyTjSid0s"
      },
      "source": [
        "# Глава 2"
      ]
    },
    {
      "cell_type": "markdown",
      "metadata": {
        "id": "KnEZLhUlikDW"
      },
      "source": [
        "## Задача 2"
      ]
    },
    {
      "cell_type": "code",
      "metadata": {
        "id": "MLTC7-AFzvPH",
        "outputId": "7fe12200-da48-42ca-8258-2efcccb3556b",
        "colab": {
          "base_uri": "https://localhost:8080/"
        }
      },
      "source": [
        "N = 20\n",
        "Ks = []\n",
        "for n in range(1,N):\n",
        "  k = 2\n",
        "  eta1 = random.random()\n",
        "  eta2 = random.random()\n",
        "  while eta1 > eta2:\n",
        "    eta1 = eta2\n",
        "    eta2 = random.random()\n",
        "    k += 1\n",
        "  Ks.append(k)\n",
        "\n",
        "MK = array(Ks).mean()\n",
        "MK"
      ],
      "execution_count": 96,
      "outputs": [
        {
          "output_type": "execute_result",
          "data": {
            "text/plain": [
              "2.8947368421052633"
            ]
          },
          "metadata": {
            "tags": []
          },
          "execution_count": 96
        }
      ]
    },
    {
      "cell_type": "code",
      "metadata": {
        "id": "5tdKbgSRm1m2",
        "outputId": "9eb7cc59-6ed7-48ad-e10f-b221e5f17eca",
        "colab": {
          "base_uri": "https://localhost:8080/",
          "height": 38
        }
      },
      "source": [
        "n, i = symbols('n i', positive = True,  Integer=True)\n",
        "# Количество перестановок n чисел\n",
        "nn = factorial(n)\n",
        "# Вероятность выпадения нужной перестановки (нужная перестановка единственна)\n",
        "pn = 1/nn\n",
        "Sum(pn, (n, 0, oo)).doit()"
      ],
      "execution_count": 132,
      "outputs": [
        {
          "output_type": "execute_result",
          "data": {
            "text/latex": "$\\displaystyle e$",
            "text/plain": [
              "E"
            ]
          },
          "metadata": {
            "tags": []
          },
          "execution_count": 132
        }
      ]
    },
    {
      "cell_type": "code",
      "metadata": {
        "id": "p74BOdHeAjYq"
      },
      "source": [
        ""
      ],
      "execution_count": null,
      "outputs": []
    }
  ]
}