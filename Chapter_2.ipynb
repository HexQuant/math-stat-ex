{
  "nbformat": 4,
  "nbformat_minor": 0,
  "metadata": {
    "colab": {
      "name": "Chapter_2.ipynb",
      "provenance": [],
      "collapsed_sections": [],
      "authorship_tag": "ABX9TyPTyd1JR+Uky1HCnbiZRdS7",
      "include_colab_link": true
    },
    "kernelspec": {
      "display_name": "Python 3",
      "language": "python",
      "name": "python3"
    },
    "language_info": {
      "codemirror_mode": {
        "name": "ipython",
        "version": 3
      },
      "file_extension": ".py",
      "mimetype": "text/x-python",
      "name": "python",
      "nbconvert_exporter": "python",
      "pygments_lexer": "ipython3",
      "version": "3.7.10"
    }
  },
  "cells": [
    {
      "cell_type": "markdown",
      "metadata": {
        "id": "view-in-github",
        "colab_type": "text"
      },
      "source": [
        "<a href=\"https://colab.research.google.com/github/HexQuant/math-stat-ex/blob/main/Chapter_2.ipynb\" target=\"_parent\"><img src=\"https://colab.research.google.com/assets/colab-badge.svg\" alt=\"Open In Colab\"/></a>"
      ]
    },
    {
      "cell_type": "code",
      "metadata": {
        "id": "fhmdQVOs6xDq"
      },
      "source": [
        "from numpy import array\n",
        "from sympy import symbols, binomial, Sum, factorial, oo\n",
        "import random\n"
      ],
      "execution_count": 1,
      "outputs": []
    },
    {
      "cell_type": "markdown",
      "metadata": {
        "id": "zLLnyTjSid0s"
      },
      "source": [
        "# Глава 2"
      ]
    },
    {
      "cell_type": "markdown",
      "metadata": {
        "id": "KnEZLhUlikDW"
      },
      "source": [
        "## Задача 2"
      ]
    },
    {
      "cell_type": "code",
      "metadata": {
        "id": "MLTC7-AFzvPH",
        "colab": {
          "base_uri": "https://localhost:8080/"
        },
        "outputId": "7fe12200-da48-42ca-8258-2efcccb3556b"
      },
      "source": [
        "N = 20\n",
        "Ks = []\n",
        "for n in range(1,N):\n",
        "  k = 2\n",
        "  eta1 = random.random()\n",
        "  eta2 = random.random()\n",
        "  while eta1 > eta2:\n",
        "    eta1 = eta2\n",
        "    eta2 = random.random()\n",
        "    k += 1\n",
        "  Ks.append(k)\n",
        "\n",
        "MK = array(Ks).mean()\n",
        "MK"
      ],
      "execution_count": null,
      "outputs": [
        {
          "output_type": "execute_result",
          "data": {
            "text/plain": [
              "2.8947368421052633"
            ]
          },
          "metadata": {
            "tags": []
          },
          "execution_count": 96
        }
      ]
    },
    {
      "cell_type": "code",
      "metadata": {
        "id": "5tdKbgSRm1m2",
        "colab": {
          "base_uri": "https://localhost:8080/",
          "height": 38
        },
        "outputId": "9eb7cc59-6ed7-48ad-e10f-b221e5f17eca"
      },
      "source": [
        "n, i = symbols('n i', positive = True,  Integer=True)\n",
        "# Количество перестановок n чисел\n",
        "nn = factorial(n)\n",
        "# Вероятность выпадения нужной перестановки (нужная перестановка единственна)\n",
        "pn = 1/nn\n",
        "Sum(pn, (n, 0, oo)).doit()"
      ],
      "execution_count": null,
      "outputs": [
        {
          "output_type": "execute_result",
          "data": {
            "text/latex": "$\\displaystyle e$",
            "text/plain": [
              "E"
            ]
          },
          "metadata": {
            "tags": []
          },
          "execution_count": 132
        }
      ]
    },
    {
      "cell_type": "markdown",
      "metadata": {
        "id": "p74BOdHeAjYq"
      },
      "source": [
        "## Задача 3"
      ]
    },
    {
      "cell_type": "code",
      "metadata": {
        "id": "U_NzzUIu5sgI",
        "outputId": "142b9529-3c54-4705-ef0a-06a3b9613bab",
        "colab": {
          "base_uri": "https://localhost:8080/"
        }
      },
      "source": [
        "N = 20\n",
        "Ls = []\n",
        "for n in range(1,N):\n",
        "  l = 1\n",
        "  eta = random.random()\n",
        "  while eta<=1: \n",
        "    eta +=random.random() \n",
        "    l+=1\n",
        "  Ls.append(l)\n",
        "\n",
        "ML = array(Ls).mean()\n",
        "ML"
      ],
      "execution_count": 2,
      "outputs": [
        {
          "output_type": "execute_result",
          "data": {
            "text/plain": [
              "2.736842105263158"
            ]
          },
          "metadata": {
            "tags": []
          },
          "execution_count": 2
        }
      ]
    },
    {
      "cell_type": "markdown",
      "metadata": {
        "id": "TTAJ_wuH9V3A"
      },
      "source": [
        "$P(L=2)=(p1=1/2)*(p2=1/2)$\n",
        "$$"
      ]
    },
    {
      "cell_type": "code",
      "metadata": {
        "id": "IXtpq3Xu_fYK"
      },
      "source": [
        ""
      ],
      "execution_count": null,
      "outputs": []
    }
  ]
}