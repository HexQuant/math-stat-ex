{
 "cells": [
  {
   "cell_type": "markdown",
   "metadata": {
    "colab_type": "text",
    "id": "view-in-github"
   },
   "source": [
    "<a href=\"https://colab.research.google.com/github/HexQuant/math-stat-ex/blob/main/Chapter_2.ipynb\" target=\"_parent\"><img src=\"https://colab.research.google.com/assets/colab-badge.svg\" alt=\"Open In Colab\"/></a>"
   ]
  },
  {
   "cell_type": "markdown",
   "metadata": {
    "id": "zLLnyTjSid0s"
   },
   "source": [
    "# Глава 2"
   ]
  },
  {
   "cell_type": "markdown",
   "metadata": {
    "id": "KnEZLhUlikDW"
   },
   "source": [
    "## Задача 2"
   ]
  },
  {
   "cell_type": "code",
   "execution_count": 1,
   "metadata": {
    "id": "fhmdQVOs6xDq"
   },
   "outputs": [],
   "source": [
    "from numpy.random import rand\n",
    "from numpy import all"
   ]
  },
  {
   "cell_type": "code",
   "execution_count": 2,
   "metadata": {
    "colab": {
     "base_uri": "https://localhost:8080/"
    },
    "id": "mUN9dz3X878G",
    "outputId": "502e074a-5570-441c-b240-fbda2dd69bbe"
   },
   "outputs": [
    {
     "data": {
      "text/plain": [
       "array([0, 0, 0, 0, 0, 0, 0, 0, 0, 0, 0, 0, 0, 0, 0, 0, 0, 0, 0, 0])"
      ]
     },
     "execution_count": 2,
     "metadata": {},
     "output_type": "execute_result"
    }
   ],
   "source": [
    "n = 5\n",
    "z = 20\n",
    "eta = rand(z,n)\n",
    "K = all((eta[:,:-1]>eta[:,1:]), axis=1).astype(int)*n\n",
    "K"
   ]
  },
  {
   "cell_type": "code",
   "execution_count": 3,
   "metadata": {
    "colab": {
     "base_uri": "https://localhost:8080/"
    },
    "id": "kojA5Vob9Bk6",
    "outputId": "522ff8af-e97a-4231-e7c4-cb9475048f95"
   },
   "outputs": [
    {
     "data": {
      "text/plain": [
       "0.0"
      ]
     },
     "execution_count": 3,
     "metadata": {},
     "output_type": "execute_result"
    }
   ],
   "source": [
    "MK = K.mean()\n",
    "MK"
   ]
  },
  {
   "cell_type": "code",
   "execution_count": null,
   "metadata": {
    "colab": {
     "base_uri": "https://localhost:8080/"
    },
    "id": "eLQJ2F7a9mpI",
    "outputId": "1c3277be-9c4f-4e35-8021-702329e18036"
   },
   "outputs": [],
   "source": []
  },
  {
   "cell_type": "code",
   "execution_count": 4,
   "metadata": {
    "colab": {
     "base_uri": "https://localhost:8080/"
    },
    "id": "rycfMIGE9nHf",
    "outputId": "82bf96df-d9da-4cb5-a70d-101011feac0f"
   },
   "outputs": [
    {
     "data": {
      "text/plain": [
       "array([[0.00649849, 0.22804926, 0.37878033, 0.14556163],\n",
       "       [0.95963358, 0.09292444, 0.10378141, 0.72433072],\n",
       "       [0.82136712, 0.82484219, 0.84489631, 0.87996676],\n",
       "       [0.57483788, 0.66856277, 0.52590484, 0.72006024],\n",
       "       [0.85851198, 0.33122936, 0.42167729, 0.62979931],\n",
       "       [0.02891707, 0.06021228, 0.48815586, 0.92216448],\n",
       "       [0.28265584, 0.7705778 , 0.32855822, 0.18207946],\n",
       "       [0.97093727, 0.1949052 , 0.69753475, 0.58932081],\n",
       "       [0.86184875, 0.78113653, 0.92844678, 0.65849541],\n",
       "       [0.53982245, 0.49060555, 0.07405638, 0.4045473 ],\n",
       "       [0.65485209, 0.0232414 , 0.50912973, 0.82241537],\n",
       "       [0.5444203 , 0.14357723, 0.62912124, 0.99008289],\n",
       "       [0.28731125, 0.25956136, 0.87432818, 0.31851016],\n",
       "       [0.60377396, 0.74281706, 0.86071837, 0.29908782],\n",
       "       [0.35910466, 0.58710928, 0.27809756, 0.73330689],\n",
       "       [0.87012056, 0.85160551, 0.54281435, 0.60195236],\n",
       "       [0.48822755, 0.8549244 , 0.76739624, 0.42598354],\n",
       "       [0.46828277, 0.7271695 , 0.25171132, 0.22101683],\n",
       "       [0.15157105, 0.42769628, 0.04650981, 0.20514618],\n",
       "       [0.27767287, 0.05486435, 0.31401609, 0.93562092]])"
      ]
     },
     "execution_count": 4,
     "metadata": {},
     "output_type": "execute_result"
    }
   ],
   "source": [
    "eta[:,1:]"
   ]
  },
  {
   "cell_type": "code",
   "execution_count": null,
   "metadata": {
    "id": "qKUPLZj9_d7R"
   },
   "outputs": [],
   "source": []
  }
 ],
 "metadata": {
  "colab": {
   "authorship_tag": "ABX9TyNa+kxNRYjmskzHAjq9z/qP",
   "collapsed_sections": [],
   "include_colab_link": true,
   "name": "Chapter_2.ipynb",
   "provenance": []
  },
  "kernelspec": {
   "display_name": "Python 3",
   "language": "python",
   "name": "python3"
  },
  "language_info": {
   "codemirror_mode": {
    "name": "ipython",
    "version": 3
   },
   "file_extension": ".py",
   "mimetype": "text/x-python",
   "name": "python",
   "nbconvert_exporter": "python",
   "pygments_lexer": "ipython3",
   "version": "3.7.10"
  }
 },
 "nbformat": 4,
 "nbformat_minor": 4
}
