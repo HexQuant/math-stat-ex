{
  "nbformat": 4,
  "nbformat_minor": 0,
  "metadata": {
    "colab": {
      "name": "Chapter_1.ipynb",
      "provenance": [],
      "authorship_tag": "ABX9TyNa+kxNRYjmskzHAjq9z/qP",
      "include_colab_link": true
    },
    "kernelspec": {
      "name": "python3",
      "display_name": "Python 3"
    },
    "language_info": {
      "name": "python"
    }
  },
  "cells": [
    {
      "cell_type": "markdown",
      "metadata": {
        "id": "view-in-github",
        "colab_type": "text"
      },
      "source": [
        "<a href=\"https://colab.research.google.com/github/HexQuant/math-stat-ex/blob/main/Chapter_2.ipynb\" target=\"_parent\"><img src=\"https://colab.research.google.com/assets/colab-badge.svg\" alt=\"Open In Colab\"/></a>"
      ]
    },
    {
      "cell_type": "markdown",
      "metadata": {
        "id": "zLLnyTjSid0s"
      },
      "source": [
        "# Глава 2"
      ]
    },
    {
      "cell_type": "markdown",
      "metadata": {
        "id": "KnEZLhUlikDW"
      },
      "source": [
        "## Задача 2"
      ]
    },
    {
      "cell_type": "code",
      "metadata": {
        "id": "fhmdQVOs6xDq"
      },
      "source": [
        "from numpy.random import rand\n",
        "from numpy import all"
      ],
      "execution_count": null,
      "outputs": []
    },
    {
      "cell_type": "code",
      "metadata": {
        "colab": {
          "base_uri": "https://localhost:8080/"
        },
        "id": "mUN9dz3X878G",
        "outputId": "502e074a-5570-441c-b240-fbda2dd69bbe"
      },
      "source": [
        "n = 5\n",
        "z = 20\n",
        "eta = rand(z,n)\n",
        "K = all((eta[:,:-1]>eta[:,1:]), axis=1).astype(int)*n\n",
        "K"
      ],
      "execution_count": null,
      "outputs": [
        {
          "output_type": "execute_result",
          "data": {
            "text/plain": [
              "array([0, 0, 0, 0, 0, 0, 0, 0, 0, 0, 0, 0, 0, 0, 0, 0, 0, 0, 0, 0])"
            ]
          },
          "metadata": {
            "tags": []
          },
          "execution_count": 90
        }
      ]
    },
    {
      "cell_type": "code",
      "metadata": {
        "colab": {
          "base_uri": "https://localhost:8080/"
        },
        "id": "kojA5Vob9Bk6",
        "outputId": "522ff8af-e97a-4231-e7c4-cb9475048f95"
      },
      "source": [
        "MK = K.mean()\n",
        "MK"
      ],
      "execution_count": null,
      "outputs": [
        {
          "output_type": "execute_result",
          "data": {
            "text/plain": [
              "0.0"
            ]
          },
          "metadata": {
            "tags": []
          },
          "execution_count": 91
        }
      ]
    },
    {
      "cell_type": "code",
      "metadata": {
        "colab": {
          "base_uri": "https://localhost:8080/"
        },
        "id": "eLQJ2F7a9mpI",
        "outputId": "1c3277be-9c4f-4e35-8021-702329e18036"
      },
      "source": [
        ""
      ],
      "execution_count": null,
      "outputs": [
        {
          "output_type": "execute_result",
          "data": {
            "text/plain": [
              "array([False, False, False, False, False, False, False, False, False,\n",
              "       False, False, False, False, False, False, False, False, False,\n",
              "       False, False, False, False, False, False, False, False, False,\n",
              "       False, False, False, False, False, False, False, False, False,\n",
              "       False, False, False, False, False, False, False, False, False,\n",
              "       False, False, False, False, False, False, False, False, False,\n",
              "       False, False, False, False, False, False, False, False, False,\n",
              "       False, False, False, False, False, False, False, False, False,\n",
              "       False, False, False, False, False, False, False, False, False,\n",
              "       False, False, False, False, False, False, False, False, False,\n",
              "       False, False, False, False, False, False,  True, False, False,\n",
              "       False, False, False, False, False, False, False, False, False,\n",
              "       False, False, False, False, False, False, False, False, False,\n",
              "       False, False, False, False, False, False, False, False, False,\n",
              "       False, False, False, False, False, False, False, False, False,\n",
              "       False, False, False, False, False, False, False, False, False,\n",
              "       False,  True,  True, False, False, False, False, False, False,\n",
              "       False, False, False, False, False, False, False, False, False,\n",
              "       False, False, False, False, False, False, False, False, False,\n",
              "       False, False, False, False, False, False, False, False, False,\n",
              "       False, False, False, False, False, False, False, False, False,\n",
              "       False, False, False, False, False, False, False, False, False,\n",
              "       False, False, False, False, False, False, False, False, False,\n",
              "       False, False, False, False, False, False, False, False, False,\n",
              "       False, False, False, False, False, False, False, False, False,\n",
              "       False, False, False, False, False, False, False, False, False,\n",
              "       False, False,  True, False, False, False, False, False, False,\n",
              "       False, False, False, False, False, False, False,  True, False,\n",
              "       False, False, False, False, False, False, False, False, False,\n",
              "       False, False, False, False, False, False, False, False, False,\n",
              "       False, False, False, False, False, False, False, False, False,\n",
              "       False, False, False, False, False, False, False, False, False,\n",
              "       False, False, False, False, False, False, False, False, False,\n",
              "       False, False, False, False, False, False, False, False, False,\n",
              "       False, False, False, False, False, False, False, False, False,\n",
              "       False, False, False, False, False, False, False, False, False,\n",
              "       False, False, False, False, False, False, False, False, False,\n",
              "       False, False, False, False, False, False, False, False, False,\n",
              "       False, False, False, False, False, False, False, False, False,\n",
              "       False, False, False, False, False, False,  True, False, False,\n",
              "       False, False, False, False, False, False, False, False, False,\n",
              "       False, False, False, False, False, False, False, False, False,\n",
              "       False, False, False, False, False, False, False, False, False,\n",
              "       False, False, False, False, False, False, False, False, False,\n",
              "       False, False, False, False, False, False, False, False, False,\n",
              "       False, False, False, False, False, False, False, False, False,\n",
              "       False, False, False, False, False, False, False, False, False,\n",
              "       False, False, False, False, False, False, False, False, False,\n",
              "       False, False, False, False, False, False, False, False, False,\n",
              "       False, False, False, False, False, False, False, False, False,\n",
              "       False, False, False, False, False, False, False, False, False,\n",
              "       False, False, False, False, False, False, False, False, False,\n",
              "       False, False, False, False, False, False, False, False, False,\n",
              "       False, False, False, False, False, False, False, False, False,\n",
              "       False, False, False, False, False, False, False, False, False,\n",
              "       False, False, False, False, False])"
            ]
          },
          "metadata": {
            "tags": []
          },
          "execution_count": 67
        }
      ]
    },
    {
      "cell_type": "code",
      "metadata": {
        "colab": {
          "base_uri": "https://localhost:8080/"
        },
        "id": "rycfMIGE9nHf",
        "outputId": "82bf96df-d9da-4cb5-a70d-101011feac0f"
      },
      "source": [
        "eta[:,1:]"
      ],
      "execution_count": null,
      "outputs": [
        {
          "output_type": "execute_result",
          "data": {
            "text/plain": [
              "array([[0.65037395, 0.38543861, 0.12992304, 0.88554705, 0.03499421,\n",
              "        0.08357769, 0.68588367, 0.21164597, 0.24724843, 0.38728923,\n",
              "        0.87189735, 0.38008842, 0.05281222, 0.46828597, 0.36605225,\n",
              "        0.77117209, 0.0890361 , 0.243087  , 0.18870302],\n",
              "       [0.9284641 , 0.84252114, 0.50380787, 0.59574816, 0.10081265,\n",
              "        0.4507446 , 0.35210383, 0.84201085, 0.00192529, 0.91124433,\n",
              "        0.84755994, 0.12636299, 0.47752559, 0.50694515, 0.386417  ,\n",
              "        0.26569058, 0.38494147, 0.18284973, 0.90557905],\n",
              "       [0.19236691, 0.05765029, 0.65385596, 0.40019936, 0.39252078,\n",
              "        0.3002059 , 0.99647469, 0.39972393, 0.60784098, 0.15164151,\n",
              "        0.37133547, 0.06505265, 0.32191856, 0.39590013, 0.86709991,\n",
              "        0.86910997, 0.09226275, 0.11445465, 0.52568277],\n",
              "       [0.33101419, 0.31319165, 0.68295518, 0.2642173 , 0.84352099,\n",
              "        0.3255614 , 0.99490444, 0.00828151, 0.87771603, 0.96581953,\n",
              "        0.01509323, 0.4382917 , 0.48710478, 0.31794573, 0.85515559,\n",
              "        0.02936178, 0.17811349, 0.35004971, 0.98053182],\n",
              "       [0.99119373, 0.69571058, 0.5280247 , 0.04027987, 0.56105014,\n",
              "        0.6609885 , 0.36887839, 0.25382781, 0.54762922, 0.84204124,\n",
              "        0.45263665, 0.17473959, 0.70479139, 0.63765964, 0.87315026,\n",
              "        0.11677623, 0.59571207, 0.80443074, 0.05048308],\n",
              "       [0.88582763, 0.51887259, 0.44957997, 0.81822314, 0.45912721,\n",
              "        0.58690447, 0.02792036, 0.55385885, 0.9615525 , 0.21965282,\n",
              "        0.42051848, 0.90527172, 0.30475454, 0.28331368, 0.07802708,\n",
              "        0.1565918 , 0.07941729, 0.30633182, 0.75982802],\n",
              "       [0.32769742, 0.49801098, 0.66094544, 0.32680124, 0.94092287,\n",
              "        0.87741231, 0.03695468, 0.87033683, 0.6327721 , 0.22586068,\n",
              "        0.72341384, 0.03578931, 0.85840851, 0.53463343, 0.52712548,\n",
              "        0.57023792, 0.82578054, 0.23607151, 0.63699732],\n",
              "       [0.31757144, 0.62772675, 0.74138518, 0.44715562, 0.33370787,\n",
              "        0.6834506 , 0.76124469, 0.05763409, 0.18448563, 0.57585899,\n",
              "        0.24045429, 0.553682  , 0.63806481, 0.18726473, 0.05010482,\n",
              "        0.08809418, 0.71429411, 0.82620997, 0.18429644],\n",
              "       [0.34722784, 0.1984438 , 0.79585073, 0.60448022, 0.71816043,\n",
              "        0.27216602, 0.81868255, 0.86095855, 0.02713446, 0.60638603,\n",
              "        0.63293429, 0.48179868, 0.51954409, 0.25083007, 0.91893279,\n",
              "        0.38555273, 0.49153535, 0.33814238, 0.81481096],\n",
              "       [0.29840303, 0.67482623, 0.31705603, 0.02639642, 0.72876824,\n",
              "        0.40636768, 0.38536725, 0.19780834, 0.30366255, 0.36165736,\n",
              "        0.56742674, 0.20789463, 0.25550259, 0.56246286, 0.08389002,\n",
              "        0.44582109, 0.77895854, 0.5361903 , 0.66018965]])"
            ]
          },
          "metadata": {
            "tags": []
          },
          "execution_count": 53
        }
      ]
    },
    {
      "cell_type": "code",
      "metadata": {
        "id": "qKUPLZj9_d7R"
      },
      "source": [
        ""
      ],
      "execution_count": null,
      "outputs": []
    }
  ]
}