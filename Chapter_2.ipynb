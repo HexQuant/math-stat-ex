{
  "nbformat": 4,
  "nbformat_minor": 0,
  "metadata": {
    "colab": {
      "name": "Chapter_2.ipynb",
      "provenance": [],
      "collapsed_sections": [],
      "authorship_tag": "ABX9TyPtyhynezfLWdgXNgWHfJTg",
      "include_colab_link": true
    },
    "kernelspec": {
      "display_name": "Python 3",
      "language": "python",
      "name": "python3"
    },
    "language_info": {
      "codemirror_mode": {
        "name": "ipython",
        "version": 3
      },
      "file_extension": ".py",
      "mimetype": "text/x-python",
      "name": "python",
      "nbconvert_exporter": "python",
      "pygments_lexer": "ipython3",
      "version": "3.7.10"
    }
  },
  "cells": [
    {
      "cell_type": "markdown",
      "metadata": {
        "id": "view-in-github",
        "colab_type": "text"
      },
      "source": [
        "<a href=\"https://colab.research.google.com/github/HexQuant/math-stat-ex/blob/main/Chapter_2.ipynb\" target=\"_parent\"><img src=\"https://colab.research.google.com/assets/colab-badge.svg\" alt=\"Open In Colab\"/></a>"
      ]
    },
    {
      "cell_type": "code",
      "metadata": {
        "id": "fhmdQVOs6xDq"
      },
      "source": [
        "from numpy import array\n",
        "from sympy import symbols, binomial, Sum, factorial, oo\n",
        "import random\n",
        "import matplotlib.pyplot as plt\n",
        "from mpl_toolkits.mplot3d import axes3d\n",
        "from mpl_toolkits.mplot3d.art3d import Poly3DCollection  # appropriate import to draw 3d polygons\n",
        "from matplotlib import style"
      ],
      "execution_count": 7,
      "outputs": []
    },
    {
      "cell_type": "markdown",
      "metadata": {
        "id": "zLLnyTjSid0s"
      },
      "source": [
        "# Глава 2"
      ]
    },
    {
      "cell_type": "markdown",
      "metadata": {
        "id": "KnEZLhUlikDW"
      },
      "source": [
        "## Задача 2"
      ]
    },
    {
      "cell_type": "code",
      "metadata": {
        "id": "MLTC7-AFzvPH",
        "colab": {
          "base_uri": "https://localhost:8080/"
        },
        "outputId": "68583c81-47a0-4bf9-c5f0-fe118658213d"
      },
      "source": [
        "N = 20\n",
        "Ks = []\n",
        "for n in range(1,N):\n",
        "  k = 2\n",
        "  eta1 = random.random()\n",
        "  eta2 = random.random()\n",
        "  while eta1 > eta2:\n",
        "    eta1 = eta2\n",
        "    eta2 = random.random()\n",
        "    k += 1\n",
        "  Ks.append(k)\n",
        "\n",
        "MK = array(Ks).mean()\n",
        "MK"
      ],
      "execution_count": 8,
      "outputs": [
        {
          "output_type": "execute_result",
          "data": {
            "text/plain": [
              "2.473684210526316"
            ]
          },
          "metadata": {
            "tags": []
          },
          "execution_count": 8
        }
      ]
    },
    {
      "cell_type": "code",
      "metadata": {
        "id": "5tdKbgSRm1m2",
        "colab": {
          "base_uri": "https://localhost:8080/",
          "height": 38
        },
        "outputId": "3c7c9da7-9ea6-42a2-8965-7fa9c2260110"
      },
      "source": [
        "n, i = symbols('n i', positive = True,  Integer=True)\n",
        "# Количество перестановок n чисел\n",
        "nn = factorial(n)\n",
        "# Вероятность выпадения нужной перестановки (нужная перестановка единственна)\n",
        "pn = 1/nn\n",
        "Sum(pn, (n, 0, oo)).doit()"
      ],
      "execution_count": 9,
      "outputs": [
        {
          "output_type": "execute_result",
          "data": {
            "text/latex": "$\\displaystyle e$",
            "text/plain": [
              "E"
            ]
          },
          "metadata": {
            "tags": []
          },
          "execution_count": 9
        }
      ]
    },
    {
      "cell_type": "markdown",
      "metadata": {
        "id": "p74BOdHeAjYq"
      },
      "source": [
        "## Задача 3"
      ]
    },
    {
      "cell_type": "code",
      "metadata": {
        "colab": {
          "base_uri": "https://localhost:8080/"
        },
        "id": "U_NzzUIu5sgI",
        "outputId": "979fc978-c713-4c90-ade6-fd09e120958f"
      },
      "source": [
        "N = 20\n",
        "Ls = []\n",
        "for n in range(1,N):\n",
        "  l = 1\n",
        "  eta = random.random()\n",
        "  while eta<=1: \n",
        "    eta +=random.random() \n",
        "    l+=1\n",
        "  Ls.append(l)\n",
        "\n",
        "ML = array(Ls).mean()\n",
        "ML"
      ],
      "execution_count": 10,
      "outputs": [
        {
          "output_type": "execute_result",
          "data": {
            "text/plain": [
              "2.6842105263157894"
            ]
          },
          "metadata": {
            "tags": []
          },
          "execution_count": 10
        }
      ]
    },
    {
      "cell_type": "markdown",
      "metadata": {
        "id": "cQxw-4frDlkq"
      },
      "source": [
        "Формулы свёртки:\n",
        "\n",
        "$F_{X+Y}(z)=P(X+Y \\leq z)=\\int_{-\\infty}^{\\infty}\\int_{-\\infty}^{z-y}f_X dx f_Y dy=\\int_{-\\infty}^\\infty F_X(z-y)f_Y dy$\n",
        "\n",
        "$f_{X+Y}(z)=\\frac{d}{dz}\\int_{-\\infty}^\\infty F_X(x-y)f_Ydy=\\int_{-\\infty}^\\infty f_X (z-y)f_Ydy $"
      ]
    },
    {
      "cell_type": "markdown",
      "metadata": {
        "id": "xyL3YWlgz12A"
      },
      "source": [
        "$P(L=n) = P(L>n-1)-P(L>n)$"
      ]
    },
    {
      "cell_type": "markdown",
      "metadata": {
        "id": "WwymxDNo8iKh"
      },
      "source": [
        "Пусть есть выборка удовлетворяющая двум условиям:\n",
        "\n",
        "$\\eta_1+\\eta_2+...+\\eta_n>1$\n",
        "\n",
        "$\\eta_1+\\eta_2+...+\\eta_{n-1} \\leq 1$"
      ]
    },
    {
      "cell_type": "markdown",
      "metadata": {
        "id": "UdgTklHaVYvE"
      },
      "source": [
        "$P(L=2)=P(\\eta_1+\\eta_2>1)=1-P(\\eta_1+\\eta_2 \\leq 1)=1-\\int_0^1 \\int_0^{1-y}f_X(x)dx f_Y(y)dy$\n",
        "\n",
        "$P(L=3)=P(L \\leq 3)-P(L < 3)= P(L \\leq 3)-P(L = 2)$\n",
        "\n",
        "$P(L \\leq 3) = P(\\eta_1+\\eta_2+\\eta_3>1)=1-P(\\eta_1+\\eta_2+\\eta_3 \\leq 1)=\n",
        "1-\\int_0^1 \\int_0^{1-z} \\int_0^{1-z-y}f_X(x)dx f_Y(y)dy f_Z(z)dz$\n",
        "\n",
        "$P(L=n)=P(L \\leq n)-P(L\\leq n-1)$"
      ]
    },
    {
      "cell_type": "code",
      "metadata": {
        "id": "A9pYJqVZVgrV",
        "outputId": "025f0bb4-9ee3-4464-c7be-102e058a08d0",
        "colab": {
          "base_uri": "https://localhost:8080/",
          "height": 357
        }
      },
      "source": [
        "plt.figure('SPLTV',figsize=(12,6))\n",
        "ax=plt.subplot(121,projection='3d')\n",
        "x1=array([1, 0, 0])\n",
        "y1=array([0, 1, 0])\n",
        "z1=array([0, 0, 1])\n",
        "ax.scatter(x1,y1,z1)\n",
        "\n",
        "# 1. create vertices from points\n",
        "verts = [list(zip(x1, y1, z1))]\n",
        "# 2. create 3d polygons and specify parameters\n",
        "srf = Poly3DCollection(verts, alpha=.25, facecolor='#800000')\n",
        "# 3. add polygon to the figure (current axes)\n",
        "plt.gca().add_collection3d(srf)\n",
        "\n",
        "ax.view_init(30, 30)\n",
        "\n",
        "ax.set_xlabel('x')\n",
        "ax.set_ylabel('y')\n",
        "ax.set_zlabel('z')\n",
        "plt.show()"
      ],
      "execution_count": 11,
      "outputs": [
        {
          "output_type": "display_data",
          "data": {
            "image/png": "[encoded data removed]",
            "text/plain": [
              "<Figure size 864x432 with 1 Axes>"
            ]
          },
          "metadata": {
            "tags": [],
            "needs_background": "light"
          }
        }
      ]
    },
    {
      "cell_type": "markdown",
      "metadata": {
        "id": "p1Wu0dUvWK9f"
      },
      "source": [
        "Объем n-мерного симплекса равен:\n",
        "\n",
        "$V_n=\\frac{1}{n!}$"
      ]
    },
    {
      "cell_type": "markdown",
      "metadata": {
        "id": "bsNFcpkOWScK"
      },
      "source": [
        "Тогда из общей формулы получим:\n",
        "\n",
        "$P(L=n)=P(L \\leq n)-P(L\\leq n-1) = (1-\\frac{1}{n!}) - (1-\\frac{1}{(n-1)!})= \\frac{n-1}{n!}$\n",
        "\n",
        "$ML = \\sum_{n=2}^\\infty n \\cdot P(L=n)=\\sum_{n=2}^\\infty n \\cdot\\frac{n-1}{n!}=e$"
      ]
    },
    {
      "cell_type": "code",
      "metadata": {
        "id": "1L_q37DYWYTZ",
        "outputId": "7ed38a09-5563-4b75-b71d-e1a3cdc9c799",
        "colab": {
          "base_uri": "https://localhost:8080/",
          "height": 38
        }
      },
      "source": [
        "n = symbols('n', positive=True, Integer=True)\n",
        "Sum(n*(n-1)/factorial(n),[n,2,oo]).doit()"
      ],
      "execution_count": 12,
      "outputs": [
        {
          "output_type": "execute_result",
          "data": {
            "text/latex": "$\\displaystyle e$",
            "text/plain": [
              "E"
            ]
          },
          "metadata": {
            "tags": []
          },
          "execution_count": 12
        }
      ]
    },
    {
      "cell_type": "markdown",
      "metadata": {
        "id": "LQQrTtc8W39x"
      },
      "source": [
        "## Задача 4"
      ]
    },
    {
      "cell_type": "markdown",
      "metadata": {
        "id": "wz9GA72qX0sN"
      },
      "source": [
        "$M(N|X_0=x_0)=\\sum_{n=0}^\\infty P(N>n|X_0=x_0)$\n"
      ]
    },
    {
      "cell_type": "code",
      "metadata": {
        "id": "94jMa9-Ebbrv"
      },
      "source": [
        ""
      ],
      "execution_count": 12,
      "outputs": []
    }
  ]
}