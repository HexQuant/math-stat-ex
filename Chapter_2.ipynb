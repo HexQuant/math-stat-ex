{
  "nbformat": 4,
  "nbformat_minor": 0,
  "metadata": {
    "colab": {
      "name": "Chapter_1.ipynb",
      "provenance": [],
      "authorship_tag": "ABX9TyNyT2mEgKf6vFbfDA15rzsQ",
      "include_colab_link": true
    },
    "kernelspec": {
      "name": "python3",
      "display_name": "Python 3"
    },
    "language_info": {
      "name": "python"
    }
  },
  "cells": [
    {
      "cell_type": "markdown",
      "metadata": {
        "id": "view-in-github",
        "colab_type": "text"
      },
      "source": [
        "<a href=\"https://colab.research.google.com/github/HexQuant/math-stat-ex/blob/main/Chapter_2.ipynb\" target=\"_parent\"><img src=\"https://colab.research.google.com/assets/colab-badge.svg\" alt=\"Open In Colab\"/></a>"
      ]
    },
    {
      "cell_type": "code",
      "metadata": {
        "id": "lOsd43fRzdBz"
      },
      "source": [
        "import numpy as np"
      ],
      "execution_count": null,
      "outputs": []
    },
    {
      "cell_type": "code",
      "metadata": {
        "id": "6144XmWEzf_M"
      },
      "source": [
        "from sympy import *"
      ],
      "execution_count": null,
      "outputs": []
    },
    {
      "cell_type": "markdown",
      "metadata": {
        "id": "Mn0UBiO9zxVY"
      },
      "source": [
        "$D\\zeta=M\\zeta^2-(M\\zeta)^2=?$\n",
        "\n",
        "$D\\zeta=M(\\zeta-M\\zeta)^2=M(\\zeta^2-2\\zeta M\\zeta+(M\\zeta)^2=\\\\=M\\zeta^2-M(2\\zeta M\\zeta) +M(M\\zeta)^2=\\\\\n",
        "=M\\zeta^2-2M\\zeta M\\zeta) +(M\\zeta)^2=M\\zeta^2-(M\\zeta)^2$"
      ]
    },
    {
      "cell_type": "code",
      "metadata": {
        "id": "2KfpvkUHz5IU",
        "colab": {
          "base_uri": "https://localhost:8080/",
          "height": 205
        },
        "outputId": "48d7e303-9426-43cc-9fca-b9d8f55d09ac"
      },
      "source": [
        "k = 5\n",
        "n =k * 1000\n",
        "sick = np.random.randint(2, size=n)\n"
      ],
      "execution_count": null,
      "outputs": [
        {
          "output_type": "error",
          "ename": "NameError",
          "evalue": "ignored",
          "traceback": [
            "\u001b[0;31m---------------------------------------------------------------------------\u001b[0m",
            "\u001b[0;31mNameError\u001b[0m                                 Traceback (most recent call last)",
            "\u001b[0;32m<ipython-input-1-84f3f6d7253f>\u001b[0m in \u001b[0;36m<module>\u001b[0;34m()\u001b[0m\n\u001b[1;32m      1\u001b[0m \u001b[0mk\u001b[0m \u001b[0;34m=\u001b[0m \u001b[0;36m5\u001b[0m\u001b[0;34m\u001b[0m\u001b[0;34m\u001b[0m\u001b[0m\n\u001b[1;32m      2\u001b[0m \u001b[0mn\u001b[0m \u001b[0;34m=\u001b[0m\u001b[0mk\u001b[0m \u001b[0;34m*\u001b[0m \u001b[0;36m1000\u001b[0m\u001b[0;34m\u001b[0m\u001b[0;34m\u001b[0m\u001b[0m\n\u001b[0;32m----> 3\u001b[0;31m \u001b[0msick\u001b[0m \u001b[0;34m=\u001b[0m \u001b[0mnp\u001b[0m\u001b[0;34m.\u001b[0m\u001b[0mrandom\u001b[0m\u001b[0;34m.\u001b[0m\u001b[0mrandint\u001b[0m\u001b[0;34m(\u001b[0m\u001b[0;36m2\u001b[0m\u001b[0;34m,\u001b[0m \u001b[0msize\u001b[0m\u001b[0;34m=\u001b[0m\u001b[0mn\u001b[0m\u001b[0;34m)\u001b[0m\u001b[0;34m\u001b[0m\u001b[0;34m\u001b[0m\u001b[0m\n\u001b[0m",
            "\u001b[0;31mNameError\u001b[0m: name 'np' is not defined"
          ]
        }
      ]
    },
    {
      "cell_type": "code",
      "metadata": {
        "id": "wa2mGetC4V9W",
        "colab": {
          "base_uri": "https://localhost:8080/",
          "height": 223
        },
        "outputId": "1755ade3-0f49-4084-c9b9-f252938cd882"
      },
      "source": [
        "from sympy.solvers import solve\n",
        "from sympy import symbols\n",
        "k, p = symbols('k p', positive =True)\n",
        "m = Symbol('m', positive = True)\n",
        "solve(1/k**2+(m)**k*ln(m), k)"
      ],
      "execution_count": null,
      "outputs": [
        {
          "output_type": "error",
          "ename": "NameError",
          "evalue": "ignored",
          "traceback": [
            "\u001b[0;31m---------------------------------------------------------------------------\u001b[0m",
            "\u001b[0;31mNameError\u001b[0m                                 Traceback (most recent call last)",
            "\u001b[0;32m<ipython-input-1-67a07108fbd5>\u001b[0m in \u001b[0;36m<module>\u001b[0;34m()\u001b[0m\n\u001b[1;32m      2\u001b[0m \u001b[0;32mfrom\u001b[0m \u001b[0msympy\u001b[0m \u001b[0;32mimport\u001b[0m \u001b[0msymbols\u001b[0m\u001b[0;34m\u001b[0m\u001b[0;34m\u001b[0m\u001b[0m\n\u001b[1;32m      3\u001b[0m \u001b[0mk\u001b[0m\u001b[0;34m,\u001b[0m \u001b[0mp\u001b[0m \u001b[0;34m=\u001b[0m \u001b[0msymbols\u001b[0m\u001b[0;34m(\u001b[0m\u001b[0;34m'k p'\u001b[0m\u001b[0;34m,\u001b[0m \u001b[0mpositive\u001b[0m \u001b[0;34m=\u001b[0m\u001b[0;32mTrue\u001b[0m\u001b[0;34m)\u001b[0m\u001b[0;34m\u001b[0m\u001b[0;34m\u001b[0m\u001b[0m\n\u001b[0;32m----> 4\u001b[0;31m \u001b[0mm\u001b[0m \u001b[0;34m=\u001b[0m \u001b[0mSymbol\u001b[0m\u001b[0;34m(\u001b[0m\u001b[0;34m'm'\u001b[0m\u001b[0;34m,\u001b[0m \u001b[0mpositive\u001b[0m \u001b[0;34m=\u001b[0m \u001b[0;32mTrue\u001b[0m\u001b[0;34m)\u001b[0m\u001b[0;34m\u001b[0m\u001b[0;34m\u001b[0m\u001b[0m\n\u001b[0m\u001b[1;32m      5\u001b[0m \u001b[0msolve\u001b[0m\u001b[0;34m(\u001b[0m\u001b[0;36m1\u001b[0m\u001b[0;34m/\u001b[0m\u001b[0mk\u001b[0m\u001b[0;34m**\u001b[0m\u001b[0;36m2\u001b[0m\u001b[0;34m+\u001b[0m\u001b[0;34m(\u001b[0m\u001b[0mm\u001b[0m\u001b[0;34m)\u001b[0m\u001b[0;34m**\u001b[0m\u001b[0mk\u001b[0m\u001b[0;34m*\u001b[0m\u001b[0mln\u001b[0m\u001b[0;34m(\u001b[0m\u001b[0mm\u001b[0m\u001b[0;34m)\u001b[0m\u001b[0;34m,\u001b[0m \u001b[0mk\u001b[0m\u001b[0;34m)\u001b[0m\u001b[0;34m\u001b[0m\u001b[0;34m\u001b[0m\u001b[0m\n",
            "\u001b[0;31mNameError\u001b[0m: name 'Symbol' is not defined"
          ]
        }
      ]
    },
    {
      "cell_type": "markdown",
      "metadata": {
        "id": "Q5bFhyRi1CpU"
      },
      "source": [
        "Пример решения задач с использованием компьютерной алгебры **Sympy** из учебника: \"Наглядная математическая статистика\" М. Б. Лагутин. 7-е изд. 2019. ISBN 978-5-00101-642-7 ."
      ]
    },
    {
      "cell_type": "markdown",
      "metadata": {
        "id": "JW1g0iQc7n8v"
      },
      "source": [
        "# Глава 1"
      ]
    },
    {
      "cell_type": "markdown",
      "metadata": {
        "id": "UBMtnCNNIzzs"
      },
      "source": [
        "## Задача 1\n",
        "$f(a)=M(\\zeta-a)^2, a=M\\zeta$\n",
        "\n",
        "$M(\\zeta^2-2\\zeta a+a^2)=\\\\=\n",
        "M\\zeta^2-2M (\\zeta a) +Ma^2$\n",
        "\n",
        "$-2M(\\zeta a)+Ma^2 \\rightarrow min$\n",
        "\n",
        "$-2M\\zeta+2Ma$\n",
        "\n",
        "$M\\zeta = Ma$"
      ]
    },
    {
      "cell_type": "markdown",
      "metadata": {
        "id": "0fVo81NXJEtn"
      },
      "source": [
        "## Задача 2\n",
        "$M \\bar \\eta = M(\\frac{1}{n}(\\eta_1+...+\\eta_n))=\\\\\n",
        "=\\frac{1}{n}(M\\eta_1+...+M\\eta_n)=0.5$\n",
        "\n",
        "$D \\bar \\eta = D(\\frac{1}{n}(\\eta_1+...+\\eta_n))=\\\\\n",
        "=M\\eta^2-(M\\eta)^2=0.5-0.25=0.25$\n",
        "\n",
        "$M\\bar\\eta=\\int_0^1 dx=$"
      ]
    },
    {
      "cell_type": "markdown",
      "metadata": {
        "id": "h4c8AsOnLW1Z"
      },
      "source": [
        "## Задача 3\n",
        "$M\\eta(n)=M max(\\eta_1,...,\\eta_n)=$\n",
        "\n",
        "$F_1(x)=P(\\eta_1\\leq x)$\n",
        "\n",
        "$F_{\\eta(n)}(\\eta_{(n)}\\leq a)=\\prod_{i=1}^{n}P(\\eta_i \\leq a) = a^n$\n",
        "\n",
        "$M\\eta_{(n)}=\\int_0^1 a^n da=\\frac{1}{n+1}a^{n+1}\\\\=\\frac{1}{n+1}1^{n+1}$\n",
        "\n",
        "\n",
        "$M\\bar\\eta\\ = \\int_0^1 a \\cdot  F_{\\eta} da = \\\\\n",
        "=\\int_0^1 a^{n+1} da = \\frac{1}{n+1}\\cdot a$\n"
      ]
    },
    {
      "cell_type": "code",
      "metadata": {
        "colab": {
          "base_uri": "https://localhost:8080/",
          "height": 38
        },
        "id": "le4tHdSjONeD",
        "outputId": "62714800-e922-473b-941e-b93387bb1077"
      },
      "source": [
        "from sympy import *\n",
        "a, n = symbols('a n', positive =True)\n",
        "F = a**n\n",
        "F"
      ],
      "execution_count": 1,
      "outputs": [
        {
          "output_type": "execute_result",
          "data": {
            "text/latex": "$\\displaystyle a^{n}$",
            "text/plain": [
              "a**n"
            ]
          },
          "metadata": {
            "tags": []
          },
          "execution_count": 1
        }
      ]
    },
    {
      "cell_type": "code",
      "metadata": {
        "colab": {
          "base_uri": "https://localhost:8080/",
          "height": 52
        },
        "id": "RT5udRgSr-Iy",
        "outputId": "fa6f5dac-1139-4530-9103-26d8ad36dd62"
      },
      "source": [
        "f = diff(F, a)\n",
        "f"
      ],
      "execution_count": null,
      "outputs": [
        {
          "output_type": "execute_result",
          "data": {
            "text/latex": "$\\displaystyle \\frac{a^{n} n}{a}$",
            "text/plain": [
              "a**n*n/a"
            ]
          },
          "metadata": {
            "tags": []
          },
          "execution_count": 26
        }
      ]
    },
    {
      "cell_type": "code",
      "metadata": {
        "id": "RjL7SPvTVZkL",
        "colab": {
          "base_uri": "https://localhost:8080/",
          "height": 49
        },
        "outputId": "eea49b5c-b202-4fbe-cadc-2982807f863b"
      },
      "source": [
        "M = integrate(a*f, (a, 0, 1))\n",
        "M"
      ],
      "execution_count": null,
      "outputs": [
        {
          "output_type": "execute_result",
          "data": {
            "text/latex": "$\\displaystyle \\frac{n}{n + 1}$",
            "text/plain": [
              "n/(n + 1)"
            ]
          },
          "metadata": {
            "tags": []
          },
          "execution_count": 27
        }
      ]
    },
    {
      "cell_type": "code",
      "metadata": {
        "colab": {
          "base_uri": "https://localhost:8080/",
          "height": 61
        },
        "id": "4g3BeJ8mpCrF",
        "outputId": "17e6295b-1700-4e5f-9684-283cb45d466d"
      },
      "source": [
        "D = integrate(a**2*f,(a,0,1)) - M**2\n",
        "D"
      ],
      "execution_count": null,
      "outputs": [
        {
          "output_type": "execute_result",
          "data": {
            "text/latex": "$\\displaystyle - \\frac{n^{2}}{\\left(n + 1\\right)^{2}} + \\frac{n}{n + 2}$",
            "text/plain": [
              "-n**2/(n + 1)**2 + n/(n + 2)"
            ]
          },
          "metadata": {
            "tags": []
          },
          "execution_count": 34
        }
      ]
    },
    {
      "cell_type": "code",
      "metadata": {
        "colab": {
          "base_uri": "https://localhost:8080/",
          "height": 55
        },
        "id": "zjWmfEAmsWeW",
        "outputId": "b4a458a6-4296-4ec1-f773-324f09c3be22"
      },
      "source": [
        "factor(D)"
      ],
      "execution_count": null,
      "outputs": [
        {
          "output_type": "execute_result",
          "data": {
            "text/latex": "$\\displaystyle \\frac{n}{\\left(n + 1\\right)^{2} \\left(n + 2\\right)}$",
            "text/plain": [
              "n/((n + 1)**2*(n + 2))"
            ]
          },
          "metadata": {
            "tags": []
          },
          "execution_count": 37
        }
      ]
    },
    {
      "cell_type": "markdown",
      "metadata": {
        "id": "4_fmYPW1toMd"
      },
      "source": [
        "## Задача 4\n",
        "$F(\\mu =  a)=p\\cdot \\prod_{i=1}^a (1-p)=\\\\\n",
        "=p\\cdot (1-p)^a$"
      ]
    },
    {
      "cell_type": "code",
      "metadata": {
        "colab": {
          "base_uri": "https://localhost:8080/",
          "height": 38
        },
        "id": "tFXwCM5MugPL",
        "outputId": "45873a5b-f571-4e0e-9430-fe7d1edd7489"
      },
      "source": [
        "# число неудач до появления первого успеха и вероятность успеха\n",
        "p = symbols('p', positive=True)\n",
        "mu, a = symbols('mu a', positive=True, Integer=True)\n",
        "F = p*(1-p)**a \n",
        "F"
      ],
      "execution_count": null,
      "outputs": [
        {
          "output_type": "execute_result",
          "data": {
            "text/latex": "$\\displaystyle p \\left(1 - p\\right)^{a}$",
            "text/plain": [
              "p*(1 - p)**a"
            ]
          },
          "metadata": {
            "tags": []
          },
          "execution_count": 117
        }
      ]
    },
    {
      "cell_type": "code",
      "metadata": {
        "colab": {
          "base_uri": "https://localhost:8080/"
        },
        "id": "jJbptSf7wtec",
        "outputId": "e1a36dda-6cdd-4277-e962-4c5d9b720909"
      },
      "source": [
        "s = Sum(F, (a,1,+oo)).doit()\n",
        "print(s)"
      ],
      "execution_count": null,
      "outputs": [
        {
          "output_type": "stream",
          "text": [
            "p*Piecewise(((1 - p)/p, Abs(p - 1) < 1), (Sum((1 - p)**a, (a, 1, oo)), True))\n"
          ],
          "name": "stdout"
        }
      ]
    },
    {
      "cell_type": "markdown",
      "metadata": {
        "id": "1NTV3OupB7ma"
      },
      "source": [
        "## Задача 5"
      ]
    },
    {
      "cell_type": "code",
      "metadata": {
        "colab": {
          "base_uri": "https://localhost:8080/",
          "height": 80
        },
        "id": "U4x_JJKUFmaP",
        "outputId": "cc0962f8-f7f9-42e0-fdc1-9316bcfa3bce"
      },
      "source": [
        "# Кол-во тестируемых в группе\n",
        "k = symbols('k', positive=True, Integer=True)\n",
        "# Вероятность обнаружения заболевания\n",
        "p = symbols('p', positive= True) \n",
        "# Вероятность отсутствия заболевания\n",
        "q = 1 - p\n",
        "# Вероястность что группа больна и НЕ больна\n",
        "pk, qk = 1 - q**k, q**k\n",
        "# Число всевозможных комбинации больных и здоровых в больной группе\n",
        "i = symbols('i', positive=True, Integer=True)\n",
        "npk =  Sum(binomial(k, i), (i, 1, k))\n",
        "# Кол-во необходимых тестов для одной группы, с учётом того, что\n",
        "# если в больной группе не выявился больной на k-1 тест, то тест делать не надо\n",
        "z = 1*  qk + pk * ((k+1) * (npk-1)/npk + k * 1/npk)\n",
        "z"
      ],
      "execution_count": null,
      "outputs": [
        {
          "output_type": "execute_result",
          "data": {
            "text/latex": "$\\displaystyle \\left(1 - p\\right)^{k} + \\left(1 - \\left(1 - p\\right)^{k}\\right) \\left(\\frac{k}{\\sum_{i=1}^{k} {\\binom{k}{i}}} + \\frac{\\left(k + 1\\right) \\left(\\sum_{i=1}^{k} {\\binom{k}{i}} - 1\\right)}{\\sum_{i=1}^{k} {\\binom{k}{i}}}\\right)$",
            "text/plain": [
              "(1 - p)**k + (1 - (1 - p)**k)*(k/Sum(binomial(k, i), (i, 1, k)) + (k + 1)*(Sum(binomial(k, i), (i, 1, k)) - 1)/Sum(binomial(k, i), (i, 1, k)))"
            ]
          },
          "metadata": {
            "tags": []
          },
          "execution_count": 48
        }
      ]
    },
    {
      "cell_type": "code",
      "metadata": {
        "colab": {
          "base_uri": "https://localhost:8080/",
          "height": 57
        },
        "id": "8C_FdzaeQHsB",
        "outputId": "43630f43-951d-496d-cd00-733c498e8d2b"
      },
      "source": [
        "# Кол-во необходимых тестов для группы из 2-х тестируемых\n",
        "z2 = z.subs(k,2).doit()\n",
        "z2"
      ],
      "execution_count": null,
      "outputs": [
        {
          "output_type": "execute_result",
          "data": {
            "text/latex": "$\\displaystyle \\frac{8}{3} - \\frac{5 \\left(1 - p\\right)^{2}}{3}$",
            "text/plain": [
              "8/3 - 5*(1 - p)**2/3"
            ]
          },
          "metadata": {
            "tags": []
          },
          "execution_count": 49
        }
      ]
    },
    {
      "cell_type": "code",
      "metadata": {
        "colab": {
          "base_uri": "https://localhost:8080/",
          "height": 38
        },
        "id": "uquDNqo7HCRt",
        "outputId": "1db5d04f-94ef-4cf2-bded-e58f4401faa5"
      },
      "source": [
        "# Критерий по \"p\" при котором выгоднее тестировать группами чем по отдельности\n",
        "crit = solve(z2<2,p).args[0]\n",
        "crit.evalf()"
      ],
      "execution_count": null,
      "outputs": [
        {
          "output_type": "execute_result",
          "data": {
            "text/latex": "$\\displaystyle p < 0.367544467966324$",
            "text/plain": [
              "p < 0.367544467966324"
            ]
          },
          "metadata": {
            "tags": []
          },
          "execution_count": 50
        }
      ]
    },
    {
      "cell_type": "markdown",
      "metadata": {
        "id": "36xiiKNYPDKU"
      },
      "source": [
        "## Задача 6"
      ]
    },
    {
      "cell_type": "code",
      "metadata": {
        "id": "ppGlgPdGPO6e"
      },
      "source": [
        "x, p = symbols('x, p', positive=True)"
      ],
      "execution_count": null,
      "outputs": []
    },
    {
      "cell_type": "code",
      "metadata": {
        "colab": {
          "base_uri": "https://localhost:8080/",
          "height": 51
        },
        "id": "lptpZiGbPsaT",
        "outputId": "9d6d7c70-98b0-44f3-d18c-d4289043bf77"
      },
      "source": [
        "H = 1+1/x-(1-p)**x\n",
        "H"
      ],
      "execution_count": null,
      "outputs": [
        {
          "output_type": "execute_result",
          "data": {
            "text/latex": "$\\displaystyle - \\left(1 - p\\right)^{x} + 1 + \\frac{1}{x}$",
            "text/plain": [
              "-(1 - p)**x + 1 + 1/x"
            ]
          },
          "metadata": {
            "tags": []
          },
          "execution_count": 87
        }
      ]
    },
    {
      "cell_type": "code",
      "metadata": {
        "colab": {
          "base_uri": "https://localhost:8080/",
          "height": 51
        },
        "id": "Y5N2-rDVdhfp",
        "outputId": "b20b8935-20c9-41ab-eb59-3c6cc6551766"
      },
      "source": [
        "h = diff(H, x)*-1\n",
        "h"
      ],
      "execution_count": null,
      "outputs": [
        {
          "output_type": "execute_result",
          "data": {
            "text/latex": "$\\displaystyle \\left(1 - p\\right)^{x} \\log{\\left(1 - p \\right)} + \\frac{1}{x^{2}}$",
            "text/plain": [
              "(1 - p)**x*log(1 - p) + x**(-2)"
            ]
          },
          "metadata": {
            "tags": []
          },
          "execution_count": 90
        }
      ]
    },
    {
      "cell_type": "code",
      "metadata": {
        "colab": {
          "base_uri": "https://localhost:8080/",
          "height": 42
        },
        "id": "kIBNZegpP91B",
        "outputId": "97f92436-8ac9-47e1-8827-466fe3992bb8"
      },
      "source": [
        "# Для док-ва подставим значение предпологаемого кореня и возьмём предел\n",
        "a = h.subs(x,1/sqrt(p))\n",
        "limit(a,p,0)"
      ],
      "execution_count": null,
      "outputs": [
        {
          "output_type": "execute_result",
          "data": {
            "text/latex": "$\\displaystyle p + \\left(1 - p\\right)^{\\frac{1}{\\sqrt{p}}} \\log{\\left(1 - p \\right)}$",
            "text/plain": [
              "p + (1 - p)**(1/sqrt(p))*log(1 - p)"
            ]
          },
          "metadata": {
            "tags": []
          },
          "execution_count": 106
        }
      ]
    },
    {
      "cell_type": "code",
      "metadata": {
        "colab": {
          "base_uri": "https://localhost:8080/",
          "height": 42
        },
        "id": "7UdlFtXMaUFI",
        "outputId": "7fb20fa8-cfd3-49d3-c1ab-a0b5db742aff"
      },
      "source": [
        "simplify(H.subs(x, 1/sqrt(p)))"
      ],
      "execution_count": null,
      "outputs": [
        {
          "output_type": "execute_result",
          "data": {
            "text/latex": "$\\displaystyle \\sqrt{p} - \\left(1 - p\\right)^{\\frac{1}{\\sqrt{p}}} + 1$",
            "text/plain": [
              "sqrt(p) - (1 - p)**(1/sqrt(p)) + 1"
            ]
          },
          "metadata": {
            "tags": []
          },
          "execution_count": 105
        }
      ]
    },
    {
      "cell_type": "markdown",
      "metadata": {
        "id": "zLLnyTjSid0s"
      },
      "source": [
        "# Глава 2"
      ]
    },
    {
      "cell_type": "markdown",
      "metadata": {
        "id": "KnEZLhUlikDW"
      },
      "source": [
        "## Задача 2"
      ]
    },
    {
      "cell_type": "code",
      "metadata": {
        "id": "fhmdQVOs6xDq"
      },
      "source": [
        "from numpy.random import rand\n",
        "from numpy import all"
      ],
      "execution_count": 36,
      "outputs": []
    },
    {
      "cell_type": "code",
      "metadata": {
        "colab": {
          "base_uri": "https://localhost:8080/"
        },
        "id": "mUN9dz3X878G",
        "outputId": "502e074a-5570-441c-b240-fbda2dd69bbe"
      },
      "source": [
        "n = 5\n",
        "z = 20\n",
        "eta = rand(z,n)\n",
        "K = all((eta[:,:-1]>eta[:,1:]), axis=1).astype(int)*n\n",
        "K"
      ],
      "execution_count": 90,
      "outputs": [
        {
          "output_type": "execute_result",
          "data": {
            "text/plain": [
              "array([0, 0, 0, 0, 0, 0, 0, 0, 0, 0, 0, 0, 0, 0, 0, 0, 0, 0, 0, 0])"
            ]
          },
          "metadata": {
            "tags": []
          },
          "execution_count": 90
        }
      ]
    },
    {
      "cell_type": "code",
      "metadata": {
        "colab": {
          "base_uri": "https://localhost:8080/"
        },
        "id": "kojA5Vob9Bk6",
        "outputId": "522ff8af-e97a-4231-e7c4-cb9475048f95"
      },
      "source": [
        "MK = K.mean()\n",
        "MK"
      ],
      "execution_count": 91,
      "outputs": [
        {
          "output_type": "execute_result",
          "data": {
            "text/plain": [
              "0.0"
            ]
          },
          "metadata": {
            "tags": []
          },
          "execution_count": 91
        }
      ]
    },
    {
      "cell_type": "code",
      "metadata": {
        "colab": {
          "base_uri": "https://localhost:8080/"
        },
        "id": "eLQJ2F7a9mpI",
        "outputId": "1c3277be-9c4f-4e35-8021-702329e18036"
      },
      "source": [
        ""
      ],
      "execution_count": 67,
      "outputs": [
        {
          "output_type": "execute_result",
          "data": {
            "text/plain": [
              "array([False, False, False, False, False, False, False, False, False,\n",
              "       False, False, False, False, False, False, False, False, False,\n",
              "       False, False, False, False, False, False, False, False, False,\n",
              "       False, False, False, False, False, False, False, False, False,\n",
              "       False, False, False, False, False, False, False, False, False,\n",
              "       False, False, False, False, False, False, False, False, False,\n",
              "       False, False, False, False, False, False, False, False, False,\n",
              "       False, False, False, False, False, False, False, False, False,\n",
              "       False, False, False, False, False, False, False, False, False,\n",
              "       False, False, False, False, False, False, False, False, False,\n",
              "       False, False, False, False, False, False,  True, False, False,\n",
              "       False, False, False, False, False, False, False, False, False,\n",
              "       False, False, False, False, False, False, False, False, False,\n",
              "       False, False, False, False, False, False, False, False, False,\n",
              "       False, False, False, False, False, False, False, False, False,\n",
              "       False, False, False, False, False, False, False, False, False,\n",
              "       False,  True,  True, False, False, False, False, False, False,\n",
              "       False, False, False, False, False, False, False, False, False,\n",
              "       False, False, False, False, False, False, False, False, False,\n",
              "       False, False, False, False, False, False, False, False, False,\n",
              "       False, False, False, False, False, False, False, False, False,\n",
              "       False, False, False, False, False, False, False, False, False,\n",
              "       False, False, False, False, False, False, False, False, False,\n",
              "       False, False, False, False, False, False, False, False, False,\n",
              "       False, False, False, False, False, False, False, False, False,\n",
              "       False, False, False, False, False, False, False, False, False,\n",
              "       False, False,  True, False, False, False, False, False, False,\n",
              "       False, False, False, False, False, False, False,  True, False,\n",
              "       False, False, False, False, False, False, False, False, False,\n",
              "       False, False, False, False, False, False, False, False, False,\n",
              "       False, False, False, False, False, False, False, False, False,\n",
              "       False, False, False, False, False, False, False, False, False,\n",
              "       False, False, False, False, False, False, False, False, False,\n",
              "       False, False, False, False, False, False, False, False, False,\n",
              "       False, False, False, False, False, False, False, False, False,\n",
              "       False, False, False, False, False, False, False, False, False,\n",
              "       False, False, False, False, False, False, False, False, False,\n",
              "       False, False, False, False, False, False, False, False, False,\n",
              "       False, False, False, False, False, False, False, False, False,\n",
              "       False, False, False, False, False, False,  True, False, False,\n",
              "       False, False, False, False, False, False, False, False, False,\n",
              "       False, False, False, False, False, False, False, False, False,\n",
              "       False, False, False, False, False, False, False, False, False,\n",
              "       False, False, False, False, False, False, False, False, False,\n",
              "       False, False, False, False, False, False, False, False, False,\n",
              "       False, False, False, False, False, False, False, False, False,\n",
              "       False, False, False, False, False, False, False, False, False,\n",
              "       False, False, False, False, False, False, False, False, False,\n",
              "       False, False, False, False, False, False, False, False, False,\n",
              "       False, False, False, False, False, False, False, False, False,\n",
              "       False, False, False, False, False, False, False, False, False,\n",
              "       False, False, False, False, False, False, False, False, False,\n",
              "       False, False, False, False, False, False, False, False, False,\n",
              "       False, False, False, False, False, False, False, False, False,\n",
              "       False, False, False, False, False, False, False, False, False,\n",
              "       False, False, False, False, False])"
            ]
          },
          "metadata": {
            "tags": []
          },
          "execution_count": 67
        }
      ]
    },
    {
      "cell_type": "code",
      "metadata": {
        "colab": {
          "base_uri": "https://localhost:8080/"
        },
        "id": "rycfMIGE9nHf",
        "outputId": "82bf96df-d9da-4cb5-a70d-101011feac0f"
      },
      "source": [
        "eta[:,1:]"
      ],
      "execution_count": 53,
      "outputs": [
        {
          "output_type": "execute_result",
          "data": {
            "text/plain": [
              "array([[0.65037395, 0.38543861, 0.12992304, 0.88554705, 0.03499421,\n",
              "        0.08357769, 0.68588367, 0.21164597, 0.24724843, 0.38728923,\n",
              "        0.87189735, 0.38008842, 0.05281222, 0.46828597, 0.36605225,\n",
              "        0.77117209, 0.0890361 , 0.243087  , 0.18870302],\n",
              "       [0.9284641 , 0.84252114, 0.50380787, 0.59574816, 0.10081265,\n",
              "        0.4507446 , 0.35210383, 0.84201085, 0.00192529, 0.91124433,\n",
              "        0.84755994, 0.12636299, 0.47752559, 0.50694515, 0.386417  ,\n",
              "        0.26569058, 0.38494147, 0.18284973, 0.90557905],\n",
              "       [0.19236691, 0.05765029, 0.65385596, 0.40019936, 0.39252078,\n",
              "        0.3002059 , 0.99647469, 0.39972393, 0.60784098, 0.15164151,\n",
              "        0.37133547, 0.06505265, 0.32191856, 0.39590013, 0.86709991,\n",
              "        0.86910997, 0.09226275, 0.11445465, 0.52568277],\n",
              "       [0.33101419, 0.31319165, 0.68295518, 0.2642173 , 0.84352099,\n",
              "        0.3255614 , 0.99490444, 0.00828151, 0.87771603, 0.96581953,\n",
              "        0.01509323, 0.4382917 , 0.48710478, 0.31794573, 0.85515559,\n",
              "        0.02936178, 0.17811349, 0.35004971, 0.98053182],\n",
              "       [0.99119373, 0.69571058, 0.5280247 , 0.04027987, 0.56105014,\n",
              "        0.6609885 , 0.36887839, 0.25382781, 0.54762922, 0.84204124,\n",
              "        0.45263665, 0.17473959, 0.70479139, 0.63765964, 0.87315026,\n",
              "        0.11677623, 0.59571207, 0.80443074, 0.05048308],\n",
              "       [0.88582763, 0.51887259, 0.44957997, 0.81822314, 0.45912721,\n",
              "        0.58690447, 0.02792036, 0.55385885, 0.9615525 , 0.21965282,\n",
              "        0.42051848, 0.90527172, 0.30475454, 0.28331368, 0.07802708,\n",
              "        0.1565918 , 0.07941729, 0.30633182, 0.75982802],\n",
              "       [0.32769742, 0.49801098, 0.66094544, 0.32680124, 0.94092287,\n",
              "        0.87741231, 0.03695468, 0.87033683, 0.6327721 , 0.22586068,\n",
              "        0.72341384, 0.03578931, 0.85840851, 0.53463343, 0.52712548,\n",
              "        0.57023792, 0.82578054, 0.23607151, 0.63699732],\n",
              "       [0.31757144, 0.62772675, 0.74138518, 0.44715562, 0.33370787,\n",
              "        0.6834506 , 0.76124469, 0.05763409, 0.18448563, 0.57585899,\n",
              "        0.24045429, 0.553682  , 0.63806481, 0.18726473, 0.05010482,\n",
              "        0.08809418, 0.71429411, 0.82620997, 0.18429644],\n",
              "       [0.34722784, 0.1984438 , 0.79585073, 0.60448022, 0.71816043,\n",
              "        0.27216602, 0.81868255, 0.86095855, 0.02713446, 0.60638603,\n",
              "        0.63293429, 0.48179868, 0.51954409, 0.25083007, 0.91893279,\n",
              "        0.38555273, 0.49153535, 0.33814238, 0.81481096],\n",
              "       [0.29840303, 0.67482623, 0.31705603, 0.02639642, 0.72876824,\n",
              "        0.40636768, 0.38536725, 0.19780834, 0.30366255, 0.36165736,\n",
              "        0.56742674, 0.20789463, 0.25550259, 0.56246286, 0.08389002,\n",
              "        0.44582109, 0.77895854, 0.5361903 , 0.66018965]])"
            ]
          },
          "metadata": {
            "tags": []
          },
          "execution_count": 53
        }
      ]
    },
    {
      "cell_type": "code",
      "metadata": {
        "id": "qKUPLZj9_d7R"
      },
      "source": [
        ""
      ],
      "execution_count": null,
      "outputs": []
    }
  ]
}